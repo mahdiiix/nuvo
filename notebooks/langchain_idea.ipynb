{
 "cells": [
  {
   "cell_type": "code",
   "execution_count": 430,
   "id": "c983ed75",
   "metadata": {},
   "outputs": [],
   "source": [
    "from langchain.tools import BaseTool, Tool\n",
    "from langchain import HuggingFaceHub, LLMChain\n",
    "from langchain.llms import Ollama\n",
    "from langchain.agents import create_react_agent, AgentExecutor\n",
    "from langchain.prompts import PromptTemplate\n",
    "from langchain.pydantic_v1 import BaseModel, Field\n",
    "from langchain import hub\n",
    "from typing import Type"
   ]
  },
  {
   "cell_type": "code",
   "execution_count": 431,
   "id": "7e162841",
   "metadata": {},
   "outputs": [],
   "source": [
    "class ColumnHookTool(BaseTool):\n",
    "    name = \"column_hook\"\n",
    "    description = '''Within this function, you have the ability to retrieve all the data from a \n",
    "        specific column. You can implement data modifications and present customized UI notifications, \n",
    "        including info messages, warnings, and/or errors.\n",
    "        This tool returns a piece of javascript code to restructure phone numbers.'''\n",
    "\n",
    "    def _run(self, columnName: str) -> str:\n",
    "        return '''columnHooks={{{{\n",
    "                    {columnName}: (values) => {{\n",
    "                      values.map(([item, index]) => {{\n",
    "                        let {columnName} = item;\n",
    "                        if (/^[0]{{2}}/.test({columnName})) {{\n",
    "                          {columnName} = `+${{item.slice(2, item.length)}}`;\n",
    "                        }}\n",
    "                        return [\n",
    "                          {{\n",
    "                            value: {columnName},\n",
    "                            info: [\n",
    "                              {{\n",
    "                                message:\n",
    "                                  'We have automatically transformed your input into the correct format by converting \"00\" to \"+\".',\n",
    "                                level: \"info\",\n",
    "                              }},\n",
    "                            ],\n",
    "                          }},\n",
    "                          index,\n",
    "                        ];\n",
    "                      }});\n",
    "                    }},\n",
    "                  }}}}'''.format(columnName=columnName)\n",
    "    \n",
    "    def _arun(self, columnName: str) -> str:\n",
    "        raise NotImplementedError(\"This tool does not support async\")"
   ]
  },
  {
   "cell_type": "code",
   "execution_count": 432,
   "id": "2dbdcddb",
   "metadata": {},
   "outputs": [
    {
     "data": {
      "text/plain": [
       "{'columnName': {'title': 'Columnname', 'type': 'string'}}"
      ]
     },
     "execution_count": 432,
     "metadata": {},
     "output_type": "execute_result"
    }
   ],
   "source": [
    "ColumnHookTool().args"
   ]
  },
  {
   "cell_type": "code",
   "execution_count": 433,
   "id": "72ff0b4b",
   "metadata": {},
   "outputs": [],
   "source": [
    "# prompt = PromptTemplate(input_variables=['phone_number'], \n",
    "#                           template='I have a phone number column and one of them is {phone_number}. correct it for me')\n",
    "# llm = Ollama(model=\"llama2\", temperature = 0)\n",
    "# llm_chain = LLMChain(prompt=prompt, llm=llm )"
   ]
  },
  {
   "cell_type": "code",
   "execution_count": 470,
   "id": "1feaf18c",
   "metadata": {},
   "outputs": [
    {
     "name": "stdout",
     "output_type": "stream",
     "text": [
      "Answer the following questions as best you can. You have access to the following tools:\n",
      "\n",
      "\u001b[33;1m\u001b[1;3m{tools}\u001b[0m\n",
      "\n",
      "Use the following format:\n",
      "\n",
      "Question: the input question you must answer\n",
      "Thought: you should always think about what to do\n",
      "Action: the action to take, should be one of [\u001b[33;1m\u001b[1;3m{tool_names}\u001b[0m]\n",
      "Action Input: the input to the action\n",
      "Observation: the result of the action\n",
      "... (this Thought/Action/Action Input/Observation can repeat N times)\n",
      "Thought: I now know the final answer\n",
      "Final Answer: the final answer to the original input question\n",
      "\n",
      "Begin!\n",
      "\n",
      "Question: \u001b[33;1m\u001b[1;3m{input}\u001b[0m\n",
      "Thought:\u001b[33;1m\u001b[1;3m{agent_scratchpad}\u001b[0m\n"
     ]
    }
   ],
   "source": [
    "tools = [ColumnHookTool()]\n",
    "\n",
    "prompt = hub.pull(\"hwchase17/react\")\n",
    "\n",
    "prompt.pretty_print()"
   ]
  },
  {
   "cell_type": "code",
   "execution_count": 513,
   "id": "bacd7b0e",
   "metadata": {},
   "outputs": [],
   "source": [
    "sys_prompt = '''Answer the following questions as best you can. You are not good at modifying phone numbers so\n",
    "for modifying or correcting a phone number just use the tools.\n",
    "You have access to the following tools:\n",
    "\n",
    "{tools}\n",
    "\n",
    "Use the following format:\n",
    "\n",
    "Question: the input question you must answer\n",
    "Thought: You should always think about what to do.\n",
    "Action: the action to take, should be one of [\"{tool_names}\"]. \n",
    "Action Input: the input to the action. The parameter is a string which is just a column name which should be\n",
    "mentioned in the Question.\n",
    "Observation: the result of the action.\n",
    "... (this Thought/Action/Action Input/Observation can repeat N-1 times)\n",
    "Thought: I now know the final answer\n",
    "Final Answer: the final answer to the original input question. \n",
    "\n",
    "Begin!\n",
    "\n",
    "Question: {input}\n",
    "Thought:{agent_scratchpad}'''\n",
    "\n"
   ]
  },
  {
   "cell_type": "code",
   "execution_count": 514,
   "id": "ce227f00",
   "metadata": {},
   "outputs": [],
   "source": [
    "prompt.template = sys_prompt"
   ]
  },
  {
   "cell_type": "code",
   "execution_count": 515,
   "id": "1b814d02",
   "metadata": {},
   "outputs": [
    {
     "name": "stdout",
     "output_type": "stream",
     "text": [
      "Answer the following questions as best you can. You are not good at modifying phone numbers so\n",
      "for modifying or correcting a phone number just use the tools.\n",
      "You have access to the following tools:\n",
      "\n",
      "\u001b[33;1m\u001b[1;3m{tools}\u001b[0m\n",
      "\n",
      "Use the following format:\n",
      "\n",
      "Question: the input question you must answer\n",
      "Thought: You should always think about what to do.\n",
      "Action: the action to take, should be one of [\"\u001b[33;1m\u001b[1;3m{tool_names}\u001b[0m\"]. \n",
      "Action Input: the input to the action. The parameter is a string which is just a column name which should be\n",
      "mentioned in the Question.\n",
      "Observation: the result of the action.\n",
      "... (this Thought/Action/Action Input/Observation can repeat N-1 times)\n",
      "Thought: I now know the final answer\n",
      "Final Answer: the final answer to the original input question. \n",
      "\n",
      "Begin!\n",
      "\n",
      "Question: \u001b[33;1m\u001b[1;3m{input}\u001b[0m\n",
      "Thought:\u001b[33;1m\u001b[1;3m{agent_scratchpad}\u001b[0m\n"
     ]
    }
   ],
   "source": [
    "prompt.pretty_print()"
   ]
  },
  {
   "cell_type": "code",
   "execution_count": 516,
   "id": "8d7e35f3",
   "metadata": {},
   "outputs": [],
   "source": [
    "agent = create_react_agent(llm=llm, tools=tools, prompt=prompt)"
   ]
  },
  {
   "cell_type": "code",
   "execution_count": 517,
   "id": "6b974af2",
   "metadata": {},
   "outputs": [
    {
     "name": "stdout",
     "output_type": "stream",
     "text": [
      "Answer the following questions as best you can. You are not good at modifying phone numbers so\n",
      "for modifying or correcting a phone number just use the tools.\n",
      "You have access to the following tools:\n",
      "\n",
      "column_hook: Within this function, you have the ability to retrieve all the data from a \n",
      "        specific column. You can implement data modifications and present customized UI notifications, \n",
      "        including info messages, warnings, and/or errors.\n",
      "        This tool returns a piece of javascript code to restructure phone numbers.\n",
      "\n",
      "Use the following format:\n",
      "\n",
      "Question: the input question you must answer\n",
      "Thought: You should always think about what to do.\n",
      "Action: the action to take, should be one of [\"column_hook\"]. \n",
      "Action Input: the input to the action. The parameter is a string which is just a column name which should be\n",
      "mentioned in the Question.\n",
      "Observation: the result of the action.\n",
      "... (this Thought/Action/Action Input/Observation can repeat N-1 times)\n",
      "Thought: I now know the final answer\n",
      "Final Answer: the final answer to the original input question. \n",
      "\n",
      "Begin!\n",
      "\n",
      "Question: \u001b[33;1m\u001b[1;3m{input}\u001b[0m\n",
      "Thought:\u001b[33;1m\u001b[1;3m{agent_scratchpad}\u001b[0m\n"
     ]
    }
   ],
   "source": [
    "agent.get_prompts()[0].pretty_print()"
   ]
  },
  {
   "cell_type": "code",
   "execution_count": 518,
   "id": "38c2f714",
   "metadata": {},
   "outputs": [],
   "source": [
    "agent_executor = AgentExecutor(agent=agent, tools=tools, verbose=True, max_iterations=3)"
   ]
  },
  {
   "cell_type": "code",
   "execution_count": 519,
   "id": "6c1e6c0c",
   "metadata": {},
   "outputs": [
    {
     "name": "stdout",
     "output_type": "stream",
     "text": [
      "\n",
      "\n",
      "\u001b[1m> Entering new AgentExecutor chain...\u001b[0m\n",
      "\u001b[32;1m\u001b[1;3mAction: column_hook\n",
      "Action Input: phones\u001b[0m\u001b[36;1m\u001b[1;3mcolumnHooks={{\n",
      "                    phones: (values) => {\n",
      "                      values.map(([item, index]) => {\n",
      "                        let phones = item;\n",
      "                        if (/^[0]{2}/.test(phones)) {\n",
      "                          phones = `+${item.slice(2, item.length)}`;\n",
      "                        }\n",
      "                        return [\n",
      "                          {\n",
      "                            value: phones,\n",
      "                            info: [\n",
      "                              {\n",
      "                                message:\n",
      "                                  'We have automatically transformed your input into the correct format by converting \"00\" to \"+\".',\n",
      "                                level: \"info\",\n",
      "                              },\n",
      "                            ],\n",
      "                          },\n",
      "                          index,\n",
      "                        ];\n",
      "                      });\n",
      "                    },\n",
      "                  }}\u001b[0m\u001b[32;1m\u001b[1;3mQuestion: I have a data frame with a phone number column named \"phones\" and I want to transform all leading zeros into a plus sign.\n",
      "\n",
      "Thought: Action: column_hook\n",
      "Action Input: phones\u001b[0m\u001b[36;1m\u001b[1;3mcolumnHooks={{\n",
      "                    phones: (values) => {\n",
      "                      values.map(([item, index]) => {\n",
      "                        let phones = item;\n",
      "                        if (/^[0]{2}/.test(phones)) {\n",
      "                          phones = `+${item.slice(2, item.length)}`;\n",
      "                        }\n",
      "                        return [\n",
      "                          {\n",
      "                            value: phones,\n",
      "                            info: [\n",
      "                              {\n",
      "                                message:\n",
      "                                  'We have automatically transformed your input into the correct format by converting \"00\" to \"+\".',\n",
      "                                level: \"info\",\n",
      "                              },\n",
      "                            ],\n",
      "                          },\n",
      "                          index,\n",
      "                        ];\n",
      "                      });\n",
      "                    },\n",
      "                  }}\u001b[0m\u001b[32;1m\u001b[1;3mQuestion: I have a data frame with a phone number column named \"phones\" and I want to transform all leading zeros into a plus sign.\n",
      "\n",
      "Thought: Action: column_hook\n",
      "Action Input: phones\u001b[0m\u001b[36;1m\u001b[1;3mcolumnHooks={{\n",
      "                    phones: (values) => {\n",
      "                      values.map(([item, index]) => {\n",
      "                        let phones = item;\n",
      "                        if (/^[0]{2}/.test(phones)) {\n",
      "                          phones = `+${item.slice(2, item.length)}`;\n",
      "                        }\n",
      "                        return [\n",
      "                          {\n",
      "                            value: phones,\n",
      "                            info: [\n",
      "                              {\n",
      "                                message:\n",
      "                                  'We have automatically transformed your input into the correct format by converting \"00\" to \"+\".',\n",
      "                                level: \"info\",\n",
      "                              },\n",
      "                            ],\n",
      "                          },\n",
      "                          index,\n",
      "                        ];\n",
      "                      });\n",
      "                    },\n",
      "                  }}\u001b[0m\u001b[32;1m\u001b[1;3m\u001b[0m\n",
      "\n",
      "\u001b[1m> Finished chain.\u001b[0m\n"
     ]
    }
   ],
   "source": [
    "result = agent_executor.invoke({'input':'I have a data frame with a phone number column with the name of \"phones\". phone numbers in this column are not in a correct format and I want to have javascript code to discard leading zeros and replace them with plus sign.'})"
   ]
  },
  {
   "cell_type": "code",
   "execution_count": null,
   "id": "60f662b5",
   "metadata": {},
   "outputs": [],
   "source": []
  }
 ],
 "metadata": {
  "kernelspec": {
   "display_name": "Python 3 (ipykernel)",
   "language": "python",
   "name": "python3"
  },
  "language_info": {
   "codemirror_mode": {
    "name": "ipython",
    "version": 3
   },
   "file_extension": ".py",
   "mimetype": "text/x-python",
   "name": "python",
   "nbconvert_exporter": "python",
   "pygments_lexer": "ipython3",
   "version": "3.11.7"
  }
 },
 "nbformat": 4,
 "nbformat_minor": 5
}
